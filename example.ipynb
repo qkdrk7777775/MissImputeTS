{
 "cells": [
  {
   "cell_type": "markdown",
   "id": "543e822d-190f-4974-b060-7689cfde652d",
   "metadata": {},
   "source": [
    "## Package load"
   ]
  },
  {
   "cell_type": "code",
   "execution_count": 1,
   "id": "1304d683-5166-4c19-b31f-c6b20372f322",
   "metadata": {
    "tags": []
   },
   "outputs": [],
   "source": [
    "import numpy as np\n",
    "import os\n",
    "import pandas as pd\n",
    "import rpy2.robjects as ro\n",
    "from rpy2.robjects.packages import importr\n",
    "import missImputeTS"
   ]
  },
  {
   "cell_type": "markdown",
   "id": "94b21228-e327-4cec-afc3-a01ccd169a65",
   "metadata": {},
   "source": [
    "## R package install & load"
   ]
  },
  {
   "cell_type": "code",
   "execution_count": 2,
   "id": "73c7c8c8-1997-446a-8eae-a43949e6a9eb",
   "metadata": {},
   "outputs": [],
   "source": [
    "# ro.r('install.packages(c(\"imputeTS\"))')\n",
    "imputeTS = importr('imputeTS')"
   ]
  },
  {
   "cell_type": "markdown",
   "id": "926d847e-7b42-47a2-98c7-cb5dc46dfa84",
   "metadata": {},
   "source": [
    "## Example data load"
   ]
  },
  {
   "cell_type": "code",
   "execution_count": 3,
   "id": "0036e3f7-783c-4596-8f60-bf6e028af9e6",
   "metadata": {},
   "outputs": [],
   "source": [
    "data_path = os.path.join(os.path.dirname(missImputeTS.__file__),'data')\n",
    "df=pd.read_csv(rf'{data_path}/EuStockMarkets.csv')\n",
    "df['times']=pd.to_datetime(df.times).round('1d')\n",
    "df=missImputeTS.continuousTimeForm(df=df,time_var_name='times',freq='1d')"
   ]
  },
  {
   "cell_type": "markdown",
   "id": "e6e6e8ed-c0fb-4197-be3c-456301b55856",
   "metadata": {},
   "source": [
    "Since the example data is not an equal time interval, it is converted to an equal time interval."
   ]
  },
  {
   "cell_type": "code",
   "execution_count": 4,
   "id": "d9940d19-e01d-4168-8450-dd0097b7ab8e",
   "metadata": {},
   "outputs": [],
   "source": [
    "df.iloc[:,1:]=df.drop('times',axis=1).interpolate()"
   ]
  },
  {
   "cell_type": "markdown",
   "id": "32516349-459d-4f81-8966-0a4d39a30feb",
   "metadata": {},
   "source": [
    "Make Missing in Example Data"
   ]
  },
  {
   "cell_type": "code",
   "execution_count": 5,
   "id": "ff36d57b-d8e2-47b9-9aff-6d7e28453d49",
   "metadata": {},
   "outputs": [],
   "source": [
    "for i in range(df.shape[1]):\n",
    "    np.random.seed(i)\n",
    "    df.iloc[np.random.choice(df.shape[0], int(df.shape[0]*.1)),i]=np.nan\n",
    "xmis=df.copy()"
   ]
  },
  {
   "cell_type": "markdown",
   "id": "8b92983e-fb9e-4bc8-a4cd-6c9848ce2f8c",
   "metadata": {},
   "source": [
    "Please set the index to time"
   ]
  },
  {
   "cell_type": "code",
   "execution_count": 6,
   "id": "dc857d5f-8df5-4748-b45f-f89685918ed4",
   "metadata": {},
   "outputs": [],
   "source": [
    "xmis=xmis.set_index('times')"
   ]
  },
  {
   "cell_type": "markdown",
   "id": "699a10c5-7e4f-4384-8962-73072758b044",
   "metadata": {},
   "source": [
    "Missing Data Interfolation"
   ]
  },
  {
   "cell_type": "code",
   "execution_count": 8,
   "id": "8126349e-d1f7-4bb5-90d1-49c8880099a1",
   "metadata": {},
   "outputs": [],
   "source": [
    "imputer = missImputeTS.missTS()"
   ]
  },
  {
   "cell_type": "code",
   "execution_count": 9,
   "id": "1c829ed9-d426-49b7-9f08-845fb6f1b505",
   "metadata": {},
   "outputs": [
    {
     "name": "stdout",
     "output_type": "stream",
     "text": [
      "Iteration: 0\n",
      "Iteration: 1\n",
      "Iteration: 2\n",
      "Iteration: 3\n"
     ]
    },
    {
     "data": {
      "text/plain": [
       "array([[1628.75  , 1678.1   , 1772.8   , 2443.6   ],\n",
       "       [1613.63  , 1688.5   , 1750.5   , 2460.2   ],\n",
       "       [1610.07  , 1683.55  , 1734.25  , 2454.2   ],\n",
       "       ...,\n",
       "       [5355.03  , 7552.6   , 3951.7   , 5399.5   ],\n",
       "       [5414.375 , 7614.45  , 3973.35  , 5427.25  ],\n",
       "       [5473.72  , 7676.3   , 4025.7185, 5880.1685]])"
      ]
     },
     "execution_count": 9,
     "metadata": {},
     "output_type": "execute_result"
    }
   ],
   "source": [
    "imputer.fit_transform(xmis)"
   ]
  }
 ],
 "metadata": {
  "kernelspec": {
   "display_name": "Python [conda env:test]",
   "language": "python",
   "name": "conda-env-test-py"
  },
  "language_info": {
   "codemirror_mode": {
    "name": "ipython",
    "version": 3
   },
   "file_extension": ".py",
   "mimetype": "text/x-python",
   "name": "python",
   "nbconvert_exporter": "python",
   "pygments_lexer": "ipython3",
   "version": "3.8.11"
  }
 },
 "nbformat": 4,
 "nbformat_minor": 5
}
